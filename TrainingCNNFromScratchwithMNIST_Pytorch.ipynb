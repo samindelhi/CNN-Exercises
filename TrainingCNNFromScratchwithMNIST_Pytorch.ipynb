{
  "nbformat": 4,
  "nbformat_minor": 0,
  "metadata": {
    "colab": {
      "provenance": [],
      "authorship_tag": "ABX9TyOVi9Fo+Kfm4azrWQ+6Zl0e",
      "include_colab_link": true
    },
    "kernelspec": {
      "name": "python3",
      "display_name": "Python 3"
    },
    "language_info": {
      "name": "python"
    }
  },
  "cells": [
    {
      "cell_type": "markdown",
      "metadata": {
        "id": "view-in-github",
        "colab_type": "text"
      },
      "source": [
        "<a href=\"https://colab.research.google.com/github/samindelhi/CNN-Exercises/blob/main/TrainingCNNFromScratchwithMNIST_Pytorch.ipynb\" target=\"_parent\"><img src=\"https://colab.research.google.com/assets/colab-badge.svg\" alt=\"Open In Colab\"/></a>"
      ]
    },
    {
      "cell_type": "markdown",
      "source": [
        "# Training CNN from Scratch with MNIST dataset using PyTorch.\n"
      ],
      "metadata": {
        "id": "1-BMyzHBq6-8"
      }
    },
    {
      "cell_type": "code",
      "execution_count": null,
      "metadata": {
        "id": "gOT5i7gRq0W2"
      },
      "outputs": [],
      "source": [
        "import torch\n",
        "import torch.nn as nn\n",
        "import torch.nn.functional as F\n",
        "import torch.optim as optim\n",
        "from torchvision import datasets, transforms\n",
        "from torch.utils.data import DataLoader\n",
        "import matplotlib.pyplot as plt\n"
      ]
    },
    {
      "cell_type": "markdown",
      "source": [
        "# 1. Load and prepocess MNIST dataset."
      ],
      "metadata": {
        "id": "3TFhLwFjrZJL"
      }
    },
    {
      "cell_type": "code",
      "source": [
        "transform = transforms.Compose([\n",
        "    transforms.ToTensor(), # Converts to [0,1] tensor\n",
        "    transforms.Normalize((0.1307,), (0.3081,)) # Normalizes with MNIST mean & std\n",
        "])\n",
        "\n",
        "train_dataset = datasets.MNIST(root='./data', train=True, download=True, transform=transform)\n",
        "test_dataset = datasets.MNIST(root='./data', train=False, download=True, transform=transform)\n",
        "\n",
        "train_loader = DataLoader(train_dataset, batch_size=64, shuffle=True)\n",
        "test_loader = DataLoader(test_dataset, batch_size=1000, shuffle=False)\n"
      ],
      "metadata": {
        "colab": {
          "base_uri": "https://localhost:8080/"
        },
        "id": "_-6l7UqmrX1R",
        "outputId": "ec2a1819-c04c-4916-bab7-02398bfcd35c"
      },
      "execution_count": null,
      "outputs": [
        {
          "output_type": "stream",
          "name": "stderr",
          "text": [
            "100%|██████████| 9.91M/9.91M [00:00<00:00, 18.7MB/s]\n",
            "100%|██████████| 28.9k/28.9k [00:00<00:00, 483kB/s]\n",
            "100%|██████████| 1.65M/1.65M [00:00<00:00, 4.42MB/s]\n",
            "100%|██████████| 4.54k/4.54k [00:00<00:00, 13.1MB/s]\n"
          ]
        }
      ]
    },
    {
      "cell_type": "markdown",
      "source": [
        "# 2. Visualize some images.\n"
      ],
      "metadata": {
        "id": "3uNIvARStDXS"
      }
    },
    {
      "cell_type": "code",
      "source": [
        "examples = enumerate(train_loader)\n",
        "batch_idx, (example_data, example_targets)= next(examples)\n",
        "\n",
        "fig = plt.figure()\n",
        "for i in range(6):\n",
        "  plt.subplot(2,3,i+1)\n",
        "  plt.tight_layout()\n",
        "  plt.imshow(example_data[i][0], cmap='gray', interpolation='none')\n",
        "  plt.title(\"Label: {}\".format(example_targets[i]))\n",
        "  plt.xticks([])\n",
        "  plt.yticks([])\n",
        "plt.show()"
      ],
      "metadata": {
        "colab": {
          "base_uri": "https://localhost:8080/",
          "height": 438
        },
        "id": "5vmWA871tJy7",
        "outputId": "0eeed2e7-d24e-4475-af11-d35e2bac3846"
      },
      "execution_count": null,
      "outputs": [
        {
          "output_type": "display_data",
          "data": {
            "text/plain": [
              "<Figure size 640x480 with 6 Axes>"
            ],
            "image/png": "[encoded data removed]"
          },
          "metadata": {}
        }
      ]
    },
    {
      "cell_type": "markdown",
      "source": [
        "# 3. Define CNN architecture.\n"
      ],
      "metadata": {
        "id": "sugXKmJPunsy"
      }
    },
    {
      "cell_type": "code",
      "source": [
        "class CNN(nn.Module):\n",
        "  def __init__(self):\n",
        "    super(CNN, self).__init__()\n",
        "    self.conv1 = nn.Conv2d(1,32, kernel_size=3)\n",
        "    self.conv2 = nn.Conv2d(32,64, kernel_size=3)\n",
        "    self.dropout1 = nn.Dropout2d(0.25)\n",
        "    self.dropout2 = nn.Dropout(0.5)\n",
        "    self.fc1 = nn.Linear(9216,128)\n",
        "    self.fc2 = nn.Linear(128, 10)\n",
        "\n",
        "  def forward(self, x):\n",
        "    x = F.relu(self.conv1(x))   # [batch, 32, 26, 26]\n",
        "    x = F.relu(self.conv2(x))   # [batch, 64, 24, 24] - 3x3 kernel was used. reducing 2.\n",
        "    x = F.max_pool2d(x,2)       # [batch, 64, 12, 12]\n",
        "    x = self.dropout1(x)\n",
        "    x = torch.flatten(x,1)      # Flatten all but batch.\n",
        "    x = F.relu(self.fc1(x))\n",
        "    x = self.dropout2(x)\n",
        "    x = self.fc2(x)\n",
        "    return F.log_softmax(x, dim=1)\n",
        "\n"
      ],
      "metadata": {
        "id": "akjcTPzmuqiX"
      },
      "execution_count": null,
      "outputs": []
    },
    {
      "cell_type": "code",
      "source": [
        "# Model Summary\n",
        "!pip install torchsummary"
      ],
      "metadata": {
        "colab": {
          "base_uri": "https://localhost:8080/"
        },
        "id": "qXsHmqm9wjLn",
        "outputId": "8d95acab-b43a-4378-8a8a-68841f375b01"
      },
      "execution_count": null,
      "outputs": [
        {
          "output_type": "stream",
          "name": "stdout",
          "text": [
            "Requirement already satisfied: torchsummary in /usr/local/lib/python3.12/dist-packages (1.5.1)\n"
          ]
        }
      ]
    },
    {
      "cell_type": "markdown",
      "source": [
        "# 4. Instantiate model, define optimizer and loss.\n"
      ],
      "metadata": {
        "id": "biiOEf9xxauO"
      }
    },
    {
      "cell_type": "code",
      "source": [
        "from torchsummary import summary\n",
        "device = torch.device('cuda' if torch.cuda.is_available() else 'cpu')\n",
        "model = CNN().to(device)\n",
        "optimizer = optim.Adam(model.parameters(), lr=0.001)\n",
        "summary(model, (1,28,28))\n"
      ],
      "metadata": {
        "colab": {
          "base_uri": "https://localhost:8080/"
        },
        "id": "odqY-gD6xgC2",
        "outputId": "66beda65-0a42-4a2c-cd90-acb69c31139f"
      },
      "execution_count": null,
      "outputs": [
        {
          "output_type": "stream",
          "name": "stdout",
          "text": [
            "----------------------------------------------------------------\n",
            "        Layer (type)               Output Shape         Param #\n",
            "================================================================\n",
            "            Conv2d-1           [-1, 32, 26, 26]             320\n",
            "            Conv2d-2           [-1, 64, 24, 24]          18,496\n",
            "         Dropout2d-3           [-1, 64, 12, 12]               0\n",
            "            Linear-4                  [-1, 128]       1,179,776\n",
            "           Dropout-5                  [-1, 128]               0\n",
            "            Linear-6                   [-1, 10]           1,290\n",
            "================================================================\n",
            "Total params: 1,199,882\n",
            "Trainable params: 1,199,882\n",
            "Non-trainable params: 0\n",
            "----------------------------------------------------------------\n",
            "Input size (MB): 0.00\n",
            "Forward/backward pass size (MB): 0.52\n",
            "Params size (MB): 4.58\n",
            "Estimated Total Size (MB): 5.10\n",
            "----------------------------------------------------------------\n"
          ]
        }
      ]
    },
    {
      "cell_type": "markdown",
      "source": [
        "# 5. Training Loop"
      ],
      "metadata": {
        "id": "n4hZYE_6yDW1"
      }
    },
    {
      "cell_type": "code",
      "source": [
        "def train(model, device, train_loader, optimizer, epoch):\n",
        "  model.train()\n",
        "  for batch_idx, (data,target) in enumerate(train_loader):\n",
        "    data, target = data.to(device), target.to(device)\n",
        "\n",
        "    optimizer.zero_grad()\n",
        "    output = model(data)\n",
        "    loss = F.nll_loss(output, target)\n",
        "    loss.backward()\n",
        "    optimizer.step()\n",
        "\n",
        "    if batch_idx % 100 == 0:\n",
        "      print(f\"Train Epoch: {epoch} [{batch_idx * len(data)}/{len(train_loader.dataset)}] Loss: {loss.item():.6f}\")\n",
        "\n"
      ],
      "metadata": {
        "id": "b_FqrpNIycS1"
      },
      "execution_count": null,
      "outputs": []
    },
    {
      "cell_type": "markdown",
      "source": [
        "# 6. Testing Loop\n"
      ],
      "metadata": {
        "id": "9UCK50Jszdjt"
      }
    },
    {
      "cell_type": "code",
      "source": [
        "def test(model, device, test_loader):\n",
        "  model.eval()\n",
        "  test_loss = 0\n",
        "  correct=0\n",
        "\n",
        "  with torch.no_grad():\n",
        "    for data, target in test_loader:\n",
        "      data, target= data.to(device), target.to(device)\n",
        "\n",
        "      output = model(data)\n",
        "      test_loss += F.nll_loss(output, target, reduction='sum').item()\n",
        "      pred = output.argmax(dim=1)\n",
        "      correct += pred.eq(target).sum().item()\n",
        "\n",
        "  test_loss /= len(test_loader.dataset)\n",
        "  accuracy = 100. * correct / len(test_loader.dataset)\n",
        "\n",
        "  print(f\"\\n Test set: Average loss: {test_loss:.4f}, Accuracy: {correct}/{len(test_loader.dataset)} ({accuracy:.2f}%) \\n\")\n"
      ],
      "metadata": {
        "id": "zEsC6yzlzkFA"
      },
      "execution_count": null,
      "outputs": []
    },
    {
      "cell_type": "markdown",
      "source": [
        "# 7. Run Training & testing\n"
      ],
      "metadata": {
        "id": "fSMrgiuG1FtQ"
      }
    },
    {
      "cell_type": "code",
      "source": [
        "for epoch in range(1,6):\n",
        "  train(model, device, train_loader, optimizer, epoch)\n",
        "  test(model,device, test_loader)\n"
      ],
      "metadata": {
        "colab": {
          "base_uri": "https://localhost:8080/"
        },
        "id": "8K25SUDz1Glk",
        "outputId": "9ccd65c6-5edb-4c7b-e4b7-35df324ff84b"
      },
      "execution_count": null,
      "outputs": [
        {
          "output_type": "stream",
          "name": "stdout",
          "text": [
            "Train Epoch: 1 [0/60000] Loss: 2.316378\n",
            "Train Epoch: 1 [6400/60000] Loss: 0.290849\n",
            "Train Epoch: 1 [12800/60000] Loss: 0.185023\n",
            "Train Epoch: 1 [19200/60000] Loss: 0.136578\n",
            "Train Epoch: 1 [25600/60000] Loss: 0.227742\n",
            "Train Epoch: 1 [32000/60000] Loss: 0.062970\n",
            "Train Epoch: 1 [38400/60000] Loss: 0.244730\n",
            "Train Epoch: 1 [44800/60000] Loss: 0.155260\n",
            "Train Epoch: 1 [51200/60000] Loss: 0.087699\n",
            "Train Epoch: 1 [57600/60000] Loss: 0.210449\n",
            "\n",
            " Test set: Average loss: 0.0578, Accuracy: 9800/10000 (98.00%) \n",
            "\n",
            "Train Epoch: 2 [0/60000] Loss: 0.067757\n",
            "Train Epoch: 2 [6400/60000] Loss: 0.224796\n",
            "Train Epoch: 2 [12800/60000] Loss: 0.267201\n",
            "Train Epoch: 2 [19200/60000] Loss: 0.064704\n",
            "Train Epoch: 2 [25600/60000] Loss: 0.046581\n",
            "Train Epoch: 2 [32000/60000] Loss: 0.180338\n",
            "Train Epoch: 2 [38400/60000] Loss: 0.138261\n",
            "Train Epoch: 2 [44800/60000] Loss: 0.155739\n",
            "Train Epoch: 2 [51200/60000] Loss: 0.104919\n",
            "Train Epoch: 2 [57600/60000] Loss: 0.049084\n",
            "\n",
            " Test set: Average loss: 0.0389, Accuracy: 9876/10000 (98.76%) \n",
            "\n",
            "Train Epoch: 3 [0/60000] Loss: 0.200719\n",
            "Train Epoch: 3 [6400/60000] Loss: 0.046209\n",
            "Train Epoch: 3 [12800/60000] Loss: 0.040819\n",
            "Train Epoch: 3 [19200/60000] Loss: 0.065336\n",
            "Train Epoch: 3 [25600/60000] Loss: 0.037530\n",
            "Train Epoch: 3 [32000/60000] Loss: 0.205217\n",
            "Train Epoch: 3 [38400/60000] Loss: 0.112591\n",
            "Train Epoch: 3 [44800/60000] Loss: 0.080277\n",
            "Train Epoch: 3 [51200/60000] Loss: 0.111561\n",
            "Train Epoch: 3 [57600/60000] Loss: 0.012642\n",
            "\n",
            " Test set: Average loss: 0.0345, Accuracy: 9901/10000 (99.01%) \n",
            "\n",
            "Train Epoch: 4 [0/60000] Loss: 0.029452\n",
            "Train Epoch: 4 [6400/60000] Loss: 0.005359\n",
            "Train Epoch: 4 [12800/60000] Loss: 0.094862\n",
            "Train Epoch: 4 [19200/60000] Loss: 0.073105\n",
            "Train Epoch: 4 [25600/60000] Loss: 0.020730\n",
            "Train Epoch: 4 [32000/60000] Loss: 0.086420\n",
            "Train Epoch: 4 [38400/60000] Loss: 0.029716\n",
            "Train Epoch: 4 [44800/60000] Loss: 0.019762\n",
            "Train Epoch: 4 [51200/60000] Loss: 0.068920\n",
            "Train Epoch: 4 [57600/60000] Loss: 0.066636\n",
            "\n",
            " Test set: Average loss: 0.0405, Accuracy: 9877/10000 (98.77%) \n",
            "\n",
            "Train Epoch: 5 [0/60000] Loss: 0.072827\n",
            "Train Epoch: 5 [6400/60000] Loss: 0.041907\n",
            "Train Epoch: 5 [12800/60000] Loss: 0.019029\n",
            "Train Epoch: 5 [19200/60000] Loss: 0.119876\n",
            "Train Epoch: 5 [25600/60000] Loss: 0.007786\n",
            "Train Epoch: 5 [32000/60000] Loss: 0.009469\n",
            "Train Epoch: 5 [38400/60000] Loss: 0.020313\n",
            "Train Epoch: 5 [44800/60000] Loss: 0.122975\n",
            "Train Epoch: 5 [51200/60000] Loss: 0.005988\n",
            "Train Epoch: 5 [57600/60000] Loss: 0.119339\n",
            "\n",
            " Test set: Average loss: 0.0316, Accuracy: 9893/10000 (98.93%) \n",
            "\n"
          ]
        }
      ]
    },
    {
      "cell_type": "markdown",
      "source": [
        "# 8. Save the Trained Model."
      ],
      "metadata": {
        "id": "wuYxxz6K22hu"
      }
    },
    {
      "cell_type": "code",
      "source": [
        "model_path = \"mnist_cnn.pth\"\n",
        "torch.save(model.state_dict(), model_path)\n",
        "print(f\"Model saved to {model_path}\")"
      ],
      "metadata": {
        "colab": {
          "base_uri": "https://localhost:8080/"
        },
        "id": "364Rrx7N26_A",
        "outputId": "c13564f6-9bba-4ad2-f3d2-4e8141ec6c7d"
      },
      "execution_count": null,
      "outputs": [
        {
          "output_type": "stream",
          "name": "stdout",
          "text": [
            "Model saved to mnist_cnn.pth\n"
          ]
        }
      ]
    },
    {
      "cell_type": "markdown",
      "source": [
        "# 9. Load the Saved Model"
      ],
      "metadata": {
        "id": "kmbtycKH3fNl"
      }
    },
    {
      "cell_type": "code",
      "source": [
        "loaded_model = CNN().to(device)\n",
        "loaded_model.load_state_dict(torch.load(model_path))\n",
        "loaded_model.eval()\n",
        "print(\"Model loaded successfully...\")"
      ],
      "metadata": {
        "colab": {
          "base_uri": "https://localhost:8080/"
        },
        "id": "gzGiv7bF3PDv",
        "outputId": "8a2f0c4b-34ee-4bd6-c9b3-442d8780a561"
      },
      "execution_count": null,
      "outputs": [
        {
          "output_type": "stream",
          "name": "stdout",
          "text": [
            "Model loaded successfully...\n"
          ]
        }
      ]
    },
    {
      "cell_type": "markdown",
      "source": [
        "# 10. Make prediction with loaded model.\n"
      ],
      "metadata": {
        "id": "hjFEZxTt355P"
      }
    },
    {
      "cell_type": "code",
      "source": [
        "def predict(model, device, data_loader, num_samples=6):\n",
        "  model.eval()\n",
        "  data_iter = iter(data_loader)\n",
        "  images, labels = next(data_iter)\n",
        "  images, labels = images.to(device), labels.to(device)\n",
        "  output = model(images)\n",
        "  preds = output.argmax(dim=1)\n",
        "\n",
        "  # Visualize predictions\n",
        "  fig = plt.figure()\n",
        "  for i in range(num_samples):\n",
        "    plt.subplot(2,3,i+1)\n",
        "    plt.tight_layout()\n",
        "    plt.imshow(images[i][0].cpu(), cmap='gray', interpolation='none')\n",
        "    plt.title(f\"Pred: {preds[i].item()}, Label: {labels[i].item()}\")\n",
        "    plt.xticks([])\n",
        "    plt.yticks([])\n",
        "  plt.show()\n"
      ],
      "metadata": {
        "id": "wGUezGaW321V"
      },
      "execution_count": null,
      "outputs": []
    },
    {
      "cell_type": "markdown",
      "source": [
        "# 11. Run Prediction."
      ],
      "metadata": {
        "id": "LDQK7z3s851V"
      }
    },
    {
      "cell_type": "code",
      "source": [
        "predict(loaded_model, device, test_loader)"
      ],
      "metadata": {
        "colab": {
          "base_uri": "https://localhost:8080/"
        },
        "id": "JgGHLWi75Gc4",
        "outputId": "ae2c8e3a-7117-4cf2-b1ec-7a043d341c5c"
      },
      "execution_count": null,
      "outputs": [
        {
          "output_type": "display_data",
          "data": {
            "text/plain": [
              "<Figure size 640x480 with 6 Axes>"
            ],
            "image/png": "[encoded data removed]"
          },
          "metadata": {}
        }
      ]
    },
    {
      "cell_type": "code",
      "source": [],
      "metadata": {
        "id": "_gMMl0Wg9Pfx"
      },
      "execution_count": null,
      "outputs": []
    }
  ]
}