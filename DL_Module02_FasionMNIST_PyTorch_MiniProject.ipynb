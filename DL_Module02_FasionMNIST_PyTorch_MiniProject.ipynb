{
  "nbformat": 4,
  "nbformat_minor": 0,
  "metadata": {
    "colab": {
      "provenance": [],
      "authorship_tag": "ABX9TyPnLkiKnt4GfT//2SB5VL30",
      "include_colab_link": true
    },
    "kernelspec": {
      "name": "python3",
      "display_name": "Python 3"
    },
    "language_info": {
      "name": "python"
    }
  },
  "cells": [
    {
      "cell_type": "markdown",
      "metadata": {
        "id": "view-in-github",
        "colab_type": "text"
      },
      "source": [
        "<a href=\"https://colab.research.google.com/github/samindelhi/CNN-Exercises/blob/main/DL_Module02_FasionMNIST_PyTorch_MiniProject.ipynb\" target=\"_parent\"><img src=\"https://colab.research.google.com/assets/colab-badge.svg\" alt=\"Open In Colab\"/></a>"
      ]
    },
    {
      "cell_type": "markdown",
      "source": [
        "# Fashion MNIST Neural Network example using PyTorch\n"
      ],
      "metadata": {
        "id": "abnULeDUoSCU"
      }
    },
    {
      "cell_type": "code",
      "execution_count": 1,
      "metadata": {
        "id": "vImtwh3OoJ6P"
      },
      "outputs": [],
      "source": [
        "import torch\n",
        "from torch import nn\n",
        "from torch.utils.data import DataLoader\n",
        "from torchvision.transforms import ToTensor, Lambda, Compose\n",
        "from torchvision.datasets import FashionMNIST\n",
        "import matplotlib.pyplot as plt\n"
      ]
    },
    {
      "cell_type": "code",
      "source": [
        "# Download training data from opendatasets\n",
        "training_data = FashionMNIST(\n",
        "    root='data',\n",
        "    train=True,\n",
        "    download = True,\n",
        "    transform = ToTensor()\n",
        ")\n",
        "\n",
        "testing_data = FashionMNIST(\n",
        "    root='data',\n",
        "    train=False,\n",
        "    download = True,\n",
        "    transform = ToTensor()\n",
        ")\n",
        "\n"
      ],
      "metadata": {
        "colab": {
          "base_uri": "https://localhost:8080/"
        },
        "id": "chsSE-8npDX6",
        "outputId": "b1e77b2a-bb3d-413d-9968-6cb49d56c166"
      },
      "execution_count": 2,
      "outputs": [
        {
          "output_type": "stream",
          "name": "stderr",
          "text": [
            "100%|██████████| 26.4M/26.4M [00:02<00:00, 11.2MB/s]\n",
            "100%|██████████| 29.5k/29.5k [00:00<00:00, 201kB/s]\n",
            "100%|██████████| 4.42M/4.42M [00:01<00:00, 3.74MB/s]\n",
            "100%|██████████| 5.15k/5.15k [00:00<00:00, 22.8MB/s]\n"
          ]
        }
      ]
    },
    {
      "cell_type": "code",
      "source": [
        "batch_size = 64\n",
        "\n",
        "# Create data loaders\n",
        "\n",
        "train_dataloader = DataLoader(training_data, batch_size=batch_size)\n",
        "test_dataloader = DataLoader(testing_data, batch_size=batch_size)\n",
        "\n",
        "for X,y in test_dataloader:\n",
        "  print(\"Shape of X [N,C,H,W]\", X.shape)\n",
        "  print(\"Shape of y: \", y.shape, y.dtype)\n",
        "  break;"
      ],
      "metadata": {
        "colab": {
          "base_uri": "https://localhost:8080/"
        },
        "id": "btrePX6zqC2Z",
        "outputId": "83134abd-d7f0-48ed-8787-fa0ec23476ab"
      },
      "execution_count": 3,
      "outputs": [
        {
          "output_type": "stream",
          "name": "stdout",
          "text": [
            "Shape of X [N,C,H,W] torch.Size([64, 1, 28, 28])\n",
            "Shape of y:  torch.Size([64]) torch.int64\n"
          ]
        }
      ]
    },
    {
      "cell_type": "code",
      "source": [
        "# Get cpu or gpu device for training\n",
        "device = \"cuda\" if torch.cuda.is_available() else \"cpu\"\n",
        "print(f\"using {device} device\")\n"
      ],
      "metadata": {
        "colab": {
          "base_uri": "https://localhost:8080/"
        },
        "id": "FsQO-0utq6aU",
        "outputId": "61a6c54f-00c0-4b13-f221-80a02a075a1a"
      },
      "execution_count": 4,
      "outputs": [
        {
          "output_type": "stream",
          "name": "stdout",
          "text": [
            "using cuda device\n"
          ]
        }
      ]
    },
    {
      "cell_type": "code",
      "source": [
        "# Define the NN model\n",
        "class NeuralNetwork(nn.Module):\n",
        "  def __init__(self):\n",
        "    super(NeuralNetwork, self).__init__()\n",
        "    self.flatten = nn.Flatten()\n",
        "\n",
        "    # Hidden layers with ReLu Activation Function\n",
        "    self.linear_relu_stack = nn.Sequential(\n",
        "        nn.Linear(28*28,512),\n",
        "        nn.ReLU(),\n",
        "        nn.Linear(512,512),\n",
        "        nn.ReLU(),\n",
        "        nn.Linear(512,10)   # Output layer\n",
        "    )\n",
        "\n",
        "  def forward(self, x):\n",
        "    x = self.flatten(x)\n",
        "    logits = self.linear_relu_stack(x)\n",
        "    return logits   # probability\n",
        "\n"
      ],
      "metadata": {
        "id": "l5GnSEd2reMa"
      },
      "execution_count": 5,
      "outputs": []
    },
    {
      "cell_type": "code",
      "source": [
        "model = NeuralNetwork().to(device)\n",
        "print(model)"
      ],
      "metadata": {
        "colab": {
          "base_uri": "https://localhost:8080/"
        },
        "id": "7T7N-uohs6ek",
        "outputId": "027f2e99-364e-467c-b1f8-8268e7da734e"
      },
      "execution_count": 6,
      "outputs": [
        {
          "output_type": "stream",
          "name": "stdout",
          "text": [
            "NeuralNetwork(\n",
            "  (flatten): Flatten(start_dim=1, end_dim=-1)\n",
            "  (linear_relu_stack): Sequential(\n",
            "    (0): Linear(in_features=784, out_features=512, bias=True)\n",
            "    (1): ReLU()\n",
            "    (2): Linear(in_features=512, out_features=512, bias=True)\n",
            "    (3): ReLU()\n",
            "    (4): Linear(in_features=512, out_features=10, bias=True)\n",
            "  )\n",
            ")\n"
          ]
        }
      ]
    },
    {
      "cell_type": "code",
      "source": [
        "# Cross Entropy Loss calculaton --> because it is a multiclass classification problem\n",
        "\n",
        "loss_fn = nn.CrossEntropyLoss()\n",
        "\n",
        "# Optimizer --> SGD -- Stochastic Gradient Descent\n",
        "\n",
        "optimizer = torch.optim.SGD(model.parameters(), lr = 1e-3)\n",
        "\n"
      ],
      "metadata": {
        "id": "6W9oqCYKt1XT"
      },
      "execution_count": 7,
      "outputs": []
    },
    {
      "cell_type": "code",
      "source": [
        "# Model Training\n",
        "def train(dataloader, model, loss_fn, optimizer ):\n",
        "  size = len(dataloader.dataset)\n",
        "  model.train()\n",
        "\n",
        "  for batch, (X,y) in enumerate(dataloader):\n",
        "    X,y = X.to(device), y.to(device) # related to gpu computation\n",
        "\n",
        "    # Compute prediction error\n",
        "    pred = model(X)\n",
        "    loss = loss_fn(pred, y)\n",
        "\n",
        "    # Backpropagation\n",
        "    optimizer.zero_grad()\n",
        "    loss.backward()\n",
        "    optimizer.step()\n",
        "\n",
        "    if(batch %100 == 0):\n",
        "      loss, current = loss.item(), batch * len(X)\n",
        "      print(f\"Loss: {loss} [{current}/{size}]\")"
      ],
      "metadata": {
        "id": "aL0Pc57fufhS"
      },
      "execution_count": 8,
      "outputs": []
    },
    {
      "cell_type": "code",
      "source": [
        "def test(dataloader, model,loss_fn):\n",
        "  size = len(dataloader.dataset)\n",
        "  num_batches = len(dataloader)\n",
        "\n",
        "  model.eval()\n",
        "\n",
        "  test_loss, correct = 0, 0\n",
        "\n",
        "  with torch.no_grad():\n",
        "    for X,y in dataloader:\n",
        "      X, y = X.to(device), y.to(device)\n",
        "      pred = model(X)\n",
        "\n",
        "      test_loss += loss_fn(pred, y).item()\n",
        "      correct += (pred.argmax(1) == y).type(torch.float).sum().item()\n",
        "\n",
        "  test_loss /= num_batches # average loss per batch\n",
        "  correct /= size # %age of correct predictions or accuracy\n",
        "\n",
        "  print(f\" Test Error: \\n Accuracy: {100*correct} %, Avg loss {test_loss}\\n\")\n",
        "\n"
      ],
      "metadata": {
        "id": "4SCt9RHhvpJI"
      },
      "execution_count": 9,
      "outputs": []
    },
    {
      "cell_type": "code",
      "source": [
        "epochs = 10\n",
        "for t in range(epochs):\n",
        "  print(f\"Epoch {t+1} \\n ----------------------\")\n",
        "  train(train_dataloader, model, loss_fn, optimizer)\n",
        "  test(test_dataloader, model, loss_fn)\n"
      ],
      "metadata": {
        "colab": {
          "base_uri": "https://localhost:8080/"
        },
        "id": "gTkxFZDPw-DP",
        "outputId": "8924ebd7-d413-4eb7-fd9e-74991fd435f0"
      },
      "execution_count": 11,
      "outputs": [
        {
          "output_type": "stream",
          "name": "stdout",
          "text": [
            "Epoch 1 \n",
            " ----------------------\n",
            "Loss: 1.1782703399658203 [0/60000]\n",
            "Loss: 1.1699771881103516 [6400/60000]\n",
            "Loss: 1.0076433420181274 [12800/60000]\n",
            "Loss: 1.1339435577392578 [19200/60000]\n",
            "Loss: 1.014875888824463 [25600/60000]\n",
            "Loss: 1.0362858772277832 [32000/60000]\n",
            "Loss: 1.0687804222106934 [38400/60000]\n",
            "Loss: 1.0138875246047974 [44800/60000]\n",
            "Loss: 1.049606442451477 [51200/60000]\n",
            "Loss: 0.9722402095794678 [57600/60000]\n",
            " Test Error: \n",
            " Accuracy: 66.32000000000001 %, Avg loss 0.9964637813294769\n",
            "\n",
            "Epoch 2 \n",
            " ----------------------\n",
            "Loss: 1.0516248941421509 [0/60000]\n",
            "Loss: 1.0641971826553345 [6400/60000]\n",
            "Loss: 0.8856704235076904 [12800/60000]\n",
            "Loss: 1.0368317365646362 [19200/60000]\n",
            "Loss: 0.9199841022491455 [25600/60000]\n",
            "Loss: 0.9375115633010864 [32000/60000]\n",
            "Loss: 0.9880577921867371 [38400/60000]\n",
            "Loss: 0.9341127872467041 [44800/60000]\n",
            "Loss: 0.964229941368103 [51200/60000]\n",
            "Loss: 0.9024519920349121 [57600/60000]\n",
            " Test Error: \n",
            " Accuracy: 67.75999999999999 %, Avg loss 0.9193061673717134\n",
            "\n",
            "Epoch 3 \n",
            " ----------------------\n",
            "Loss: 0.9592085480690002 [0/60000]\n",
            "Loss: 0.9918303489685059 [6400/60000]\n",
            "Loss: 0.7987746000289917 [12800/60000]\n",
            "Loss: 0.968119740486145 [19200/60000]\n",
            "Loss: 0.8569843173027039 [25600/60000]\n",
            "Loss: 0.8657479882240295 [32000/60000]\n",
            "Loss: 0.9324089288711548 [38400/60000]\n",
            "Loss: 0.8805434703826904 [44800/60000]\n",
            "Loss: 0.9026865363121033 [51200/60000]\n",
            "Loss: 0.8523029685020447 [57600/60000]\n",
            " Test Error: \n",
            " Accuracy: 68.77 %, Avg loss 0.863830842789571\n",
            "\n",
            "Epoch 4 \n",
            " ----------------------\n",
            "Loss: 0.8883917331695557 [0/60000]\n",
            "Loss: 0.9382651448249817 [6400/60000]\n",
            "Loss: 0.7339217662811279 [12800/60000]\n",
            "Loss: 0.9166525602340698 [19200/60000]\n",
            "Loss: 0.8118065595626831 [25600/60000]\n",
            "Loss: 0.8115854263305664 [32000/60000]\n",
            "Loss: 0.890794038772583 [38400/60000]\n",
            "Loss: 0.8430655598640442 [44800/60000]\n",
            "Loss: 0.8564780354499817 [51200/60000]\n",
            "Loss: 0.8136531114578247 [57600/60000]\n",
            " Test Error: \n",
            " Accuracy: 70.16 %, Avg loss 0.8217012616479473\n",
            "\n",
            "Epoch 5 \n",
            " ----------------------\n",
            "Loss: 0.8316648006439209 [0/60000]\n",
            "Loss: 0.8954229354858398 [6400/60000]\n",
            "Loss: 0.6834416389465332 [12800/60000]\n",
            "Loss: 0.8763307332992554 [19200/60000]\n",
            "Loss: 0.7774852514266968 [25600/60000]\n",
            "Loss: 0.7695913314819336 [32000/60000]\n",
            "Loss: 0.8572944402694702 [38400/60000]\n",
            "Loss: 0.8155714273452759 [44800/60000]\n",
            "Loss: 0.8204067349433899 [51200/60000]\n",
            "Loss: 0.7822074890136719 [57600/60000]\n",
            " Test Error: \n",
            " Accuracy: 71.45 %, Avg loss 0.7882459473078418\n",
            "\n",
            "Epoch 6 \n",
            " ----------------------\n",
            "Loss: 0.7847325801849365 [0/60000]\n",
            "Loss: 0.8592051267623901 [6400/60000]\n",
            "Loss: 0.6429060101509094 [12800/60000]\n",
            "Loss: 0.8439706563949585 [19200/60000]\n",
            "Loss: 0.7500081062316895 [25600/60000]\n",
            "Loss: 0.7363139390945435 [32000/60000]\n",
            "Loss: 0.8289211392402649 [38400/60000]\n",
            "Loss: 0.7940426468849182 [44800/60000]\n",
            "Loss: 0.791485071182251 [51200/60000]\n",
            "Loss: 0.7558102607727051 [57600/60000]\n",
            " Test Error: \n",
            " Accuracy: 72.71 %, Avg loss 0.7605678156302993\n",
            "\n",
            "Epoch 7 \n",
            " ----------------------\n",
            "Loss: 0.7450380921363831 [0/60000]\n",
            "Loss: 0.8273541927337646 [6400/60000]\n",
            "Loss: 0.6092696189880371 [12800/60000]\n",
            "Loss: 0.8174824714660645 [19200/60000]\n",
            "Loss: 0.727200984954834 [25600/60000]\n",
            "Loss: 0.7095094919204712 [32000/60000]\n",
            "Loss: 0.8037741184234619 [38400/60000]\n",
            "Loss: 0.7763665318489075 [44800/60000]\n",
            "Loss: 0.7676228880882263 [51200/60000]\n",
            "Loss: 0.7330588102340698 [57600/60000]\n",
            " Test Error: \n",
            " Accuracy: 73.87 %, Avg loss 0.7368650910960641\n",
            "\n",
            "Epoch 8 \n",
            " ----------------------\n",
            "Loss: 0.7106998562812805 [0/60000]\n",
            "Loss: 0.7985573410987854 [6400/60000]\n",
            "Loss: 0.5805425643920898 [12800/60000]\n",
            "Loss: 0.7951574325561523 [19200/60000]\n",
            "Loss: 0.7077256441116333 [25600/60000]\n",
            "Loss: 0.6874905824661255 [32000/60000]\n",
            "Loss: 0.7809118032455444 [38400/60000]\n",
            "Loss: 0.7609540224075317 [44800/60000]\n",
            "Loss: 0.747543215751648 [51200/60000]\n",
            "Loss: 0.7130539417266846 [57600/60000]\n",
            " Test Error: \n",
            " Accuracy: 74.76 %, Avg loss 0.7160140198127479\n",
            "\n",
            "Epoch 9 \n",
            " ----------------------\n",
            "Loss: 0.6804531812667847 [0/60000]\n",
            "Loss: 0.7721932530403137 [6400/60000]\n",
            "Loss: 0.5557198524475098 [12800/60000]\n",
            "Loss: 0.7758116722106934 [19200/60000]\n",
            "Loss: 0.6908732652664185 [25600/60000]\n",
            "Loss: 0.6691295504570007 [32000/60000]\n",
            "Loss: 0.759914219379425 [38400/60000]\n",
            "Loss: 0.7471718192100525 [44800/60000]\n",
            "Loss: 0.730354905128479 [51200/60000]\n",
            "Loss: 0.6950851678848267 [57600/60000]\n",
            " Test Error: \n",
            " Accuracy: 75.46000000000001 %, Avg loss 0.6973610051498291\n",
            "\n",
            "Epoch 10 \n",
            " ----------------------\n",
            "Loss: 0.6537983417510986 [0/60000]\n",
            "Loss: 0.7480642795562744 [6400/60000]\n",
            "Loss: 0.5339575409889221 [12800/60000]\n",
            "Loss: 0.7587741017341614 [19200/60000]\n",
            "Loss: 0.6759898662567139 [25600/60000]\n",
            "Loss: 0.6536301374435425 [32000/60000]\n",
            "Loss: 0.7403464913368225 [38400/60000]\n",
            "Loss: 0.7347509860992432 [44800/60000]\n",
            "Loss: 0.715555727481842 [51200/60000]\n",
            "Loss: 0.678763210773468 [57600/60000]\n",
            " Test Error: \n",
            " Accuracy: 76.03999999999999 %, Avg loss 0.6805115564233938\n",
            "\n"
          ]
        }
      ]
    },
    {
      "cell_type": "code",
      "source": [
        "# Save model\n",
        "\n",
        "torch.save(model.state_dict(), \"model.pth\")\n",
        "print(\"Saved model state to model.pth\")\n"
      ],
      "metadata": {
        "colab": {
          "base_uri": "https://localhost:8080/"
        },
        "id": "j5F_P8GD0lrP",
        "outputId": "a2dbb6d1-6da2-4f05-eacb-49dae78ca9d0"
      },
      "execution_count": 12,
      "outputs": [
        {
          "output_type": "stream",
          "name": "stdout",
          "text": [
            "Saved model state to model.pth\n"
          ]
        }
      ]
    },
    {
      "cell_type": "code",
      "source": [
        "## Prediction\n",
        "\n",
        "classes = [\n",
        "    \"T-shirt/top\",\n",
        "    \"Trouser\",\n",
        "    \"Pullover\",\n",
        "    \"Dress\",\n",
        "    \"Coat\",\n",
        "    \"Sandal\",\n",
        "    \"Shirt\",\n",
        "    \"Sneaker\",\n",
        "    \"Bag\",\n",
        "    \"Ankle boot\"\n",
        "    ]\n",
        "\n",
        "model.eval()\n",
        "\n",
        "x, y = testing_data[15][0], testing_data[15][1]\n",
        "\n",
        "x = x.to(device)\n",
        "\n",
        "with torch.no_grad():\n",
        "  pred = model(x)\n",
        "  predicted, actual = classes[pred[0].argmax(0)], classes[y]\n",
        "\n",
        "  print(f\"Predicted: {predicted} Actual: {actual}\")"
      ],
      "metadata": {
        "colab": {
          "base_uri": "https://localhost:8080/"
        },
        "id": "iecv2RHR0w8o",
        "outputId": "a043f7f4-664d-41b6-8d8b-ea504f96d8d6"
      },
      "execution_count": 24,
      "outputs": [
        {
          "output_type": "stream",
          "name": "stdout",
          "text": [
            "Predicted: Trouser Actual: Trouser\n"
          ]
        }
      ]
    },
    {
      "cell_type": "code",
      "source": [
        "import matplotlib.pyplot as plt\n",
        "\n",
        "# Assuming 'x' contains the image data\n",
        "plt.imshow(x.cpu().squeeze())  # Move tensor to CPU if using GPU\n",
        "plt.show()"
      ],
      "metadata": {
        "colab": {
          "base_uri": "https://localhost:8080/",
          "height": 430
        },
        "id": "NSOwP1TK1J7E",
        "outputId": "6a135dbf-6184-4ade-a721-cf864a0cda2c"
      },
      "execution_count": 25,
      "outputs": [
        {
          "output_type": "display_data",
          "data": {
            "text/plain": [
              "<Figure size 640x480 with 1 Axes>"
            ],
            "image/png": "[encoded data removed]"
          },
          "metadata": {}
        }
      ]
    },
    {
      "cell_type": "code",
      "source": [],
      "metadata": {
        "id": "SWZruoZX3es9"
      },
      "execution_count": null,
      "outputs": []
    }
  ]
}